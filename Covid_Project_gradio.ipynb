{
 "cells": [
  {
   "cell_type": "code",
   "execution_count": 1,
   "id": "311dd161-6283-414a-99d8-b962c89fd695",
   "metadata": {},
   "outputs": [],
   "source": [
    "import numpy as np\n",
    "import pandas as pd\n",
    "import seaborn as sns\n",
    "from matplotlib import pyplot as plt\n",
    "import time\n",
    "from sklearn.preprocessing import LabelEncoder\n",
    "from sklearn.model_selection import train_test_split\n",
    "from sklearn import metrics\n",
    "from sklearn.metrics import accuracy_score\n",
    "from sklearn.model_selection import GridSearchCV\n",
    "from sklearn.metrics import classification_report,confusion_matrix, roc_auc_score, mean_squared_error,r2_score, accuracy_score\n",
    "from sklearn.linear_model import LogisticRegression\n",
    "from sklearn.ensemble import RandomForestClassifier\n"
   ]
  },
  {
   "cell_type": "code",
   "execution_count": 2,
   "id": "06f55ae9-62d1-43ca-b661-eb07d5adce28",
   "metadata": {},
   "outputs": [],
   "source": [
    "covid_data = pd.read_csv(\"Covid Dataset.csv\")"
   ]
  },
  {
   "cell_type": "code",
   "execution_count": 3,
   "id": "de54dca5-3fb7-4af6-95e6-e61e532021ae",
   "metadata": {},
   "outputs": [],
   "source": [
    "e=LabelEncoder()"
   ]
  },
  {
   "cell_type": "code",
   "execution_count": 4,
   "id": "1b1a8c90-fa53-4edc-9ae4-d056ef6bc249",
   "metadata": {},
   "outputs": [],
   "source": [
    "covid_data['Breathing Problem']=e.fit_transform(covid_data['Breathing Problem'])\n",
    "covid_data['Fever']=e.fit_transform(covid_data['Fever'])\n",
    "covid_data['Dry Cough']=e.fit_transform(covid_data['Dry Cough'])\n",
    "covid_data['Sore throat']=e.fit_transform(covid_data['Sore throat'])\n",
    "covid_data['Running Nose']=e.fit_transform(covid_data['Running Nose'])\n",
    "covid_data['Asthma']=e.fit_transform(covid_data['Asthma'])\n",
    "covid_data['Chronic Lung Disease']=e.fit_transform(covid_data['Chronic Lung Disease'])\n",
    "covid_data['Headache']=e.fit_transform(covid_data['Headache'])\n",
    "covid_data['Heart Disease']=e.fit_transform(covid_data['Heart Disease'])\n",
    "covid_data['Diabetes']=e.fit_transform(covid_data['Diabetes'])\n",
    "covid_data['Hyper Tension']=e.fit_transform(covid_data['Hyper Tension'])\n",
    "covid_data['Abroad travel']=e.fit_transform(covid_data['Abroad travel'])\n",
    "covid_data['Contact with COVID Patient']=e.fit_transform(covid_data['Contact with COVID Patient'])\n",
    "covid_data['Attended Large Gathering']=e.fit_transform(covid_data['Attended Large Gathering'])\n",
    "covid_data['Visited Public Exposed Places']=e.fit_transform(covid_data['Visited Public Exposed Places'])\n",
    "covid_data['Family working in Public Exposed Places']=e.fit_transform(covid_data['Family working in Public Exposed Places'])\n",
    "covid_data['Wearing Masks']=e.fit_transform(covid_data['Wearing Masks'])\n",
    "covid_data['Sanitization from Market']=e.fit_transform(covid_data['Sanitization from Market'])\n",
    "covid_data['COVID-19']=e.fit_transform(covid_data['COVID-19'])\n",
    "covid_data['Dry Cough']=e.fit_transform(covid_data['Dry Cough'])\n",
    "covid_data['Sore throat']=e.fit_transform(covid_data['Sore throat'])\n",
    "covid_data['Gastrointestinal ']=e.fit_transform(covid_data['Gastrointestinal '])\n",
    "covid_data['Fatigue ']=e.fit_transform(covid_data['Fatigue '])"
   ]
  },
  {
   "cell_type": "code",
   "execution_count": 5,
   "id": "2dda7fec-2967-46f3-932c-6cb8d23b4846",
   "metadata": {},
   "outputs": [],
   "source": [
    "#dropping both the columns because it whole contains only \"no\" value\n",
    "covid_data=covid_data.drop('Wearing Masks',axis=1)\n",
    "covid_data=covid_data.drop('Sanitization from Market',axis=1)"
   ]
  },
  {
   "cell_type": "code",
   "execution_count": 6,
   "id": "e57ee98e-fab4-4570-b9ea-0cd5f05b4d6c",
   "metadata": {},
   "outputs": [],
   "source": [
    "x_train, x_test, y_train, y_test = train_test_split(covid_data.drop('COVID-19', axis=1), covid_data['COVID-19'], test_size=0.2, random_state=42)"
   ]
  },
  {
   "cell_type": "code",
   "execution_count": 7,
   "id": "152b6a82-1890-482c-a358-44b44fe7e5e3",
   "metadata": {},
   "outputs": [
    {
     "data": {
      "text/html": [
       "<style>#sk-container-id-1 {color: black;}#sk-container-id-1 pre{padding: 0;}#sk-container-id-1 div.sk-toggleable {background-color: white;}#sk-container-id-1 label.sk-toggleable__label {cursor: pointer;display: block;width: 100%;margin-bottom: 0;padding: 0.3em;box-sizing: border-box;text-align: center;}#sk-container-id-1 label.sk-toggleable__label-arrow:before {content: \"▸\";float: left;margin-right: 0.25em;color: #696969;}#sk-container-id-1 label.sk-toggleable__label-arrow:hover:before {color: black;}#sk-container-id-1 div.sk-estimator:hover label.sk-toggleable__label-arrow:before {color: black;}#sk-container-id-1 div.sk-toggleable__content {max-height: 0;max-width: 0;overflow: hidden;text-align: left;background-color: #f0f8ff;}#sk-container-id-1 div.sk-toggleable__content pre {margin: 0.2em;color: black;border-radius: 0.25em;background-color: #f0f8ff;}#sk-container-id-1 input.sk-toggleable__control:checked~div.sk-toggleable__content {max-height: 200px;max-width: 100%;overflow: auto;}#sk-container-id-1 input.sk-toggleable__control:checked~label.sk-toggleable__label-arrow:before {content: \"▾\";}#sk-container-id-1 div.sk-estimator input.sk-toggleable__control:checked~label.sk-toggleable__label {background-color: #d4ebff;}#sk-container-id-1 div.sk-label input.sk-toggleable__control:checked~label.sk-toggleable__label {background-color: #d4ebff;}#sk-container-id-1 input.sk-hidden--visually {border: 0;clip: rect(1px 1px 1px 1px);clip: rect(1px, 1px, 1px, 1px);height: 1px;margin: -1px;overflow: hidden;padding: 0;position: absolute;width: 1px;}#sk-container-id-1 div.sk-estimator {font-family: monospace;background-color: #f0f8ff;border: 1px dotted black;border-radius: 0.25em;box-sizing: border-box;margin-bottom: 0.5em;}#sk-container-id-1 div.sk-estimator:hover {background-color: #d4ebff;}#sk-container-id-1 div.sk-parallel-item::after {content: \"\";width: 100%;border-bottom: 1px solid gray;flex-grow: 1;}#sk-container-id-1 div.sk-label:hover label.sk-toggleable__label {background-color: #d4ebff;}#sk-container-id-1 div.sk-serial::before {content: \"\";position: absolute;border-left: 1px solid gray;box-sizing: border-box;top: 0;bottom: 0;left: 50%;z-index: 0;}#sk-container-id-1 div.sk-serial {display: flex;flex-direction: column;align-items: center;background-color: white;padding-right: 0.2em;padding-left: 0.2em;position: relative;}#sk-container-id-1 div.sk-item {position: relative;z-index: 1;}#sk-container-id-1 div.sk-parallel {display: flex;align-items: stretch;justify-content: center;background-color: white;position: relative;}#sk-container-id-1 div.sk-item::before, #sk-container-id-1 div.sk-parallel-item::before {content: \"\";position: absolute;border-left: 1px solid gray;box-sizing: border-box;top: 0;bottom: 0;left: 50%;z-index: -1;}#sk-container-id-1 div.sk-parallel-item {display: flex;flex-direction: column;z-index: 1;position: relative;background-color: white;}#sk-container-id-1 div.sk-parallel-item:first-child::after {align-self: flex-end;width: 50%;}#sk-container-id-1 div.sk-parallel-item:last-child::after {align-self: flex-start;width: 50%;}#sk-container-id-1 div.sk-parallel-item:only-child::after {width: 0;}#sk-container-id-1 div.sk-dashed-wrapped {border: 1px dashed gray;margin: 0 0.4em 0.5em 0.4em;box-sizing: border-box;padding-bottom: 0.4em;background-color: white;}#sk-container-id-1 div.sk-label label {font-family: monospace;font-weight: bold;display: inline-block;line-height: 1.2em;}#sk-container-id-1 div.sk-label-container {text-align: center;}#sk-container-id-1 div.sk-container {/* jupyter's `normalize.less` sets `[hidden] { display: none; }` but bootstrap.min.css set `[hidden] { display: none !important; }` so we also need the `!important` here to be able to override the default hidden behavior on the sphinx rendered scikit-learn.org. See: https://github.com/scikit-learn/scikit-learn/issues/21755 */display: inline-block !important;position: relative;}#sk-container-id-1 div.sk-text-repr-fallback {display: none;}</style><div id=\"sk-container-id-1\" class=\"sk-top-container\"><div class=\"sk-text-repr-fallback\"><pre>RandomForestClassifier(random_state=42)</pre><b>In a Jupyter environment, please rerun this cell to show the HTML representation or trust the notebook. <br />On GitHub, the HTML representation is unable to render, please try loading this page with nbviewer.org.</b></div><div class=\"sk-container\" hidden><div class=\"sk-item\"><div class=\"sk-estimator sk-toggleable\"><input class=\"sk-toggleable__control sk-hidden--visually\" id=\"sk-estimator-id-1\" type=\"checkbox\" checked><label for=\"sk-estimator-id-1\" class=\"sk-toggleable__label sk-toggleable__label-arrow\">RandomForestClassifier</label><div class=\"sk-toggleable__content\"><pre>RandomForestClassifier(random_state=42)</pre></div></div></div></div></div>"
      ],
      "text/plain": [
       "RandomForestClassifier(random_state=42)"
      ]
     },
     "execution_count": 7,
     "metadata": {},
     "output_type": "execute_result"
    }
   ],
   "source": [
    "rfc = RandomForestClassifier(n_estimators=100, random_state=42)\n",
    "rfc.fit(x_train, y_train)"
   ]
  },
  {
   "cell_type": "code",
   "execution_count": 33,
   "id": "a2d99573-07a4-4147-8660-c070871aedaa",
   "metadata": {},
   "outputs": [],
   "source": [
    "def func(a, b, c, d, e, f, g, h, i, j, k, l, m, n, o, p, q, r):\n",
    "    \n",
    "    \n",
    "    x_test = [[a, b, c, d, e, f, g, h, i, j, k, l, m, n, o, p, q, r]]\n",
    "    result = rfc.predict(x_test)[0]\n",
    "    dict = {\n",
    "        0 : \"NO\",\n",
    "        1: \"YES\"  \n",
    "    }\n",
    "    if result==0:\n",
    "        str = \"You do not have any symptoms of COVID-19. Stay home! Stay safe! 😃😎\"\n",
    "    elif result==1:\n",
    "        str = \"You may be affected with COVID-19 virus! You should consult to Doctor 😐😐\"\n",
    "    return f\"{dict[result]}\\n\\n{str}\""
   ]
  },
  {
   "cell_type": "code",
   "execution_count": 43,
   "id": "187285f3-6647-4ab5-8631-c0782bfa6cd9",
   "metadata": {},
   "outputs": [
    {
     "name": "stdout",
     "output_type": "stream",
     "text": [
      "Running on local URL:  http://127.0.0.1:7889\n",
      "\n",
      "To create a public link, set `share=True` in `launch()`.\n"
     ]
    },
    {
     "data": {
      "text/plain": []
     },
     "execution_count": 43,
     "metadata": {},
     "output_type": "execute_result"
    }
   ],
   "source": [
    "import gradio as gr\n",
    "\n",
    "demo = gr.Interface(\n",
    "    fn= func,\n",
    "    inputs=[\n",
    "        gr.Textbox(label=\"Breathing Problem\", placeholder=\"Enter 0 for NO and 1 for YES.\", elem_id=\"gender\",type='text'),\n",
    "        gr.Textbox(label=\"Fever\", placeholder=\"Enter 0 for NO and 1 for YES.\", elem_id=\"gender\",type='text'),\n",
    "        gr.Textbox(label=\"Dry Cough\", placeholder=\"Enter 0 for NO and 1 for YES.\", elem_id=\"gender\",type='text'),\n",
    "        gr.Textbox(label=\"Sore throat\", placeholder=\"Enter 0 for NO and 1 for YES.\", elem_id=\"gender\",type='text'),\n",
    "        gr.Textbox(label=\"Running Nose\", placeholder=\"Enter 0 for NO and 1 for YES.\", elem_id=\"gender\",type='text'),\n",
    "        gr.Textbox(label=\"Asthma\", placeholder=\"Enter 0 for NO and 1 for YES.\", elem_id=\"gender\",type='text'),\n",
    "        gr.Textbox(label=\"Chronic Lung Disease\", placeholder=\"Enter 0 for NO and 1 for YES.\", elem_id=\"gender\",type='text'),\n",
    "        gr.Textbox(label=\"Headache\", placeholder=\"Enter 0 for NO and 1 for YES.\", elem_id=\"gender\",type='text'),\n",
    "        gr.Textbox(label=\"Heart Disease\", placeholder=\"Enter 0 for NO and 1 for YES.\", elem_id=\"gender\",type='text'),\n",
    "        gr.Textbox(label=\"Diabetes\", placeholder=\"Enter 0 for NO and 1 for YES.\", elem_id=\"gender\",type='text'),\n",
    "        gr.Textbox(label=\"Hyper Tension\", placeholder=\"Enter 0 for NO and 1 for YES.\", elem_id=\"gender\",type='text'),\n",
    "        gr.Textbox(label=\"Fatigue\", placeholder=\"Enter 0 for NO and 1 for YES.\", elem_id=\"gender\",type='text'),\n",
    "        gr.Textbox(label=\"Gastrointestinal\", placeholder=\"Enter 0 for NO and 1 for YES.\", elem_id=\"gender\",type='text'),\n",
    "        gr.Textbox(label=\"Abroad travel\", placeholder=\"Enter 0 for NO and 1 for YES.\", elem_id=\"gender\",type='text'),\n",
    "        gr.Textbox(label=\"Contact with COVID Patient\", placeholder=\"Enter 0 for NO and 1 for YES.\", elem_id=\"gender\",type='text'),\n",
    "        gr.Textbox(label=\"Attended Large Gathering\", placeholder=\"Enter 0 for NO and 1 for YES.\",elem_id=\"gender\",type='text'),\n",
    "        gr.Textbox(label=\"Visited Public Exposed Places\", placeholder=\"Enter 0 for NO and 1 for YES.\", elem_id=\"gender\",type='text'),\n",
    "        gr.Textbox(label=\"Family working in Public Exposed Places\", placeholder=\"Enter 0 for NO and 1 for YES.\", elem_id=\"gender\",type='text')\n",
    "    ],\n",
    "    outputs='text',\n",
    "    theme=gr.themes.Soft(),\n",
    "    title=\"<h1 id=title-first> Welcome to HEALTHASSURE <br> <span id=title-second>Covid-19 detection using Machine Learning</span> </h1>\",\n",
    "    description=\"<p id=desc>◾ Please Enter the Data in following way(Important)<br>◾ NO : <span id=desc-info>Enter : 0</span><br>◾ YES : <span id=desc-info> Enter : 1 </span></p> <br> <p id=desc>**Some Examples are given at bottom You can try them by clicking on it.<br>**Enter only Numeric Value</p>\",\n",
    "    css=\"\"\"\n",
    "    .gradio-container {background-color: #ECFFDC}\"\n",
    "         #gender { background-color : teal !important; }\n",
    "        #gender textarea {background-color: #ecf7fd; font-size : 15px; color : black;\n",
    "         font-weight : bold; !important;}\n",
    "        \n",
    "        #desc {font-weight : bold; color : black !important;}\n",
    "        #desc-info{font-weight:normal;}\n",
    "        h1 {text-align : center; font-size: 40px !important;}\n",
    "        #title-first {color:black;  !important;}\n",
    "        #title-second {color:green; font-size: 17px !important;}\n",
    "        #a-tag { color : white !important;}\n",
    "        \n",
    "        #a-tag:hover {text-decoration : none !important;}\n",
    "    \n",
    "    \"\"\",\n",
    "    examples=[[1,1,1,1,0,1,0,1,0,1,1,0,0,1,0,0,0,0],[0,0,1,0,0,0,1,1,0,0,0,1,1,0,0,0,0,0],[1,0,1,0,1,0,0,0,0,1,1,1,0,1,0,1,1,0],[0,1,0,0,0,1,1,1,1,1,0,0,0,0,1,0,0,0]]\n",
    "    \n",
    "\n",
    ")\n",
    "\n",
    "\n",
    "demo.launch(inbrowser=True, inline=False)"
   ]
  }
 ],
 "metadata": {
  "kernelspec": {
   "display_name": "Python 3 (ipykernel)",
   "language": "python",
   "name": "python3"
  },
  "language_info": {
   "codemirror_mode": {
    "name": "ipython",
    "version": 3
   },
   "file_extension": ".py",
   "mimetype": "text/x-python",
   "name": "python",
   "nbconvert_exporter": "python",
   "pygments_lexer": "ipython3",
   "version": "3.11.4"
  }
 },
 "nbformat": 4,
 "nbformat_minor": 5
}
